{
  "nbformat": 4,
  "nbformat_minor": 0,
  "metadata": {
    "colab": {
      "provenance": [],
      "authorship_tag": "ABX9TyOSJE2AMYhBgKi8y/KC/Z+l",
      "include_colab_link": true
    },
    "kernelspec": {
      "name": "python3",
      "display_name": "Python 3"
    },
    "language_info": {
      "name": "python"
    }
  },
  "cells": [
    {
      "cell_type": "markdown",
      "metadata": {
        "id": "view-in-github",
        "colab_type": "text"
      },
      "source": [
        "<a href=\"https://colab.research.google.com/github/jakeofking/brawlstarsgallery/blob/master/Untitled7.ipynb\" target=\"_parent\"><img src=\"https://colab.research.google.com/assets/colab-badge.svg\" alt=\"Open In Colab\"/></a>"
      ]
    },
    {
      "cell_type": "code",
      "execution_count": 12,
      "metadata": {
        "colab": {
          "base_uri": "https://localhost:8080/"
        },
        "id": "L4UFlyraUok2",
        "outputId": "9ef1ca3d-a2a8-4824-a241-8302f1ba05f9"
      },
      "outputs": [
        {
          "output_type": "stream",
          "name": "stdout",
          "text": [
            "HTML code generated and written to brawl_stars_gallery.html\n"
          ]
        }
      ],
      "source": [
        "def generate_brawl_stars_gallery():\n",
        "    html_code = '''\n",
        "<!DOCTYPE html>\n",
        "<html>\n",
        "<head>\n",
        "    <title>Brawl Stars Gallery</title>\n",
        "    <link rel=\"stylesheet\" type=\"text/css\" href=\"styles.css\">\n",
        "    <script src=\"script.js\"></script>\n",
        "</head>\n",
        "<body>\n",
        "    <header>\n",
        "        <h1>Welcome to Brawl Stars Gallery</h1>\n",
        "    </header>\n",
        "\n",
        "    <nav>\n",
        "        <ul>\n",
        "            <li><a href=\"#brawlers\">Brawler Showcase</a></li>\n",
        "            <li><a href=\"#artistic\">Artistic Corner</a></li>\n",
        "            <li><a href=\"#videos\">Video Highlights</a></li>\n",
        "            <li><a href=\"#strategy\">Strategy Hub</a></li>\n",
        "            <li><a href=\"#news\">News and Updates</a></li>\n",
        "        </ul>\n",
        "    </nav>\n",
        "\n",
        "    <section id=\"brawlers\">\n",
        "        <h2>Brawler Showcase</h2>\n",
        "        <div class=\"brawler\">\n",
        "            <h3>Brawler Name</h3>\n",
        "            <img src=\"brawler-image.jpg\" alt=\"Brawler Image\">\n",
        "            <p>Statistics and details about the brawler.</p>\n",
        "            <a href=\"brawler-video.mp4\">Watch Gameplay Video</a>\n",
        "        </div>\n",
        "        <!-- Add more brawler profiles here -->\n",
        "    </section>\n",
        "\n",
        "    <section id=\"artistic\">\n",
        "        <h2>Artistic Corner</h2>\n",
        "        <div class=\"artwork\">\n",
        "            <h3>Artwork Title</h3>\n",
        "            <img src=\"artwork-image.jpg\" alt=\"Artwork Image\">\n",
        "            <p>Description or artist information.</p>\n",
        "        </div>\n",
        "        <!-- Add more artwork and fan art here -->\n",
        "    </section>\n",
        "\n",
        "    <section id=\"videos\">\n",
        "        <h2>Video Highlights</h2>\n",
        "        <div class=\"video\">\n",
        "            <h3>Video Title</h3>\n",
        "            <video controls>\n",
        "                <source src=\"gameplay-video.mp4\" type=\"video/mp4\">\n",
        "                Your browser does not support the video tag.\n",
        "            </video>\n",
        "            <p>Description or player information.</p>\n",
        "        </div>\n",
        "        <!-- Add more gameplay videos here -->\n",
        "    </section>\n",
        "\n",
        "    <section id=\"strategy\">\n",
        "        <h2>Strategy Hub</h2>\n",
        "        <div class=\"discussion\">\n",
        "            <h3>Discussion Topic</h3>\n",
        "            <p>Start a discussion about strategies, tactics, or game modes.</p>\n",
        "            <a href=\"discussion-thread.html\">Join the Discussion</a>\n",
        "        </div>\n",
        "        <!-- Add more strategy discussions and guides here -->\n",
        "    </section>\n",
        "\n",
        "    <section id=\"news\">\n",
        "        <h2>News and Updates</h2>\n",
        "        <div class=\"article\">\n",
        "            <h3>Article Title</h3>\n",
        "            <img src=\"article-image.jpg\" alt=\"Article Image\">\n",
        "            <p>Summary of the news or update.</p>\n",
        "            <a href=\"full-article.html\">Read More</a>\n",
        "        </div>\n",
        "        <!-- Add more news articles and updates here -->\n",
        "    </section>\n",
        "\n",
        "    <footer>\n",
        "        <p>&copy; 2023 Brawl Stars Gallery. All rights reserved.</p>\n",
        "    </footer>\n",
        "</body>\n",
        "</html>\n",
        "'''\n",
        "    return html_code\n",
        "\n",
        "# Write the generated HTML code to a file\n",
        "with open('brawl_stars_gallery.html', 'w') as file:\n",
        "    file.write(generate_brawl_stars_gallery())\n",
        "\n",
        "print(\"HTML code generated and written to brawl_stars_gallery.html\")\n"
      ]
    }
  ]
}